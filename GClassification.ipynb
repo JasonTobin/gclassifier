{
  "cells": [
    {
      "cell_type": "code",
      "execution_count": 12,
      "metadata": {
        "colab": {
          "base_uri": "https://localhost:8080/"
        },
        "id": "6hufwv5mMP6W",
        "outputId": "07d87125-d908-40f0-88db-0cada721c18a"
      },
      "outputs": [
        {
          "output_type": "stream",
          "name": "stdout",
          "text": [
            "Your runtime has 56.9 gigabytes of available RAM\n",
            "\n",
            "Drive already mounted at /content/drive; to attempt to forcibly remount, call drive.mount(\"/content/drive\", force_remount=True).\n"
          ]
        }
      ],
      "source": [
        "from psutil import virtual_memory\n",
        "ram_gb = virtual_memory().total / 1e9\n",
        "print('Your runtime has {:.1f} gigabytes of available RAM\\n'.format(ram_gb))\n",
        "from google.colab import drive\n",
        "import tensorflow as tf\n",
        "with tf.device('/device:GPU:0'):\n",
        "  drive.mount('/content/drive')\n",
        "  images_folder = '/content/drive/MyDrive/171/images'\n",
        "  images_csv = '/content/drive/MyDrive/171/dataset.csv'"
      ]
    },
    {
      "cell_type": "code",
      "execution_count": null,
      "metadata": {
        "colab": {
          "base_uri": "https://localhost:8080/"
        },
        "id": "-_cDhyA5Onhy",
        "outputId": "d2725b33-b458-4d1e-9682-4afe9215f71c"
      },
      "outputs": [
        {
          "output_type": "stream",
          "name": "stdout",
          "text": [
            "Requirement already satisfied: tensorflow in /usr/local/lib/python3.11/dist-packages (2.18.0)\n",
            "Requirement already satisfied: absl-py>=1.0.0 in /usr/local/lib/python3.11/dist-packages (from tensorflow) (1.4.0)\n",
            "Requirement already satisfied: astunparse>=1.6.0 in /usr/local/lib/python3.11/dist-packages (from tensorflow) (1.6.3)\n",
            "Requirement already satisfied: flatbuffers>=24.3.25 in /usr/local/lib/python3.11/dist-packages (from tensorflow) (25.2.10)\n",
            "Requirement already satisfied: gast!=0.5.0,!=0.5.1,!=0.5.2,>=0.2.1 in /usr/local/lib/python3.11/dist-packages (from tensorflow) (0.6.0)\n",
            "Requirement already satisfied: google-pasta>=0.1.1 in /usr/local/lib/python3.11/dist-packages (from tensorflow) (0.2.0)\n",
            "Requirement already satisfied: libclang>=13.0.0 in /usr/local/lib/python3.11/dist-packages (from tensorflow) (18.1.1)\n",
            "Requirement already satisfied: opt-einsum>=2.3.2 in /usr/local/lib/python3.11/dist-packages (from tensorflow) (3.4.0)\n",
            "Requirement already satisfied: packaging in /usr/local/lib/python3.11/dist-packages (from tensorflow) (24.2)\n",
            "Requirement already satisfied: protobuf!=4.21.0,!=4.21.1,!=4.21.2,!=4.21.3,!=4.21.4,!=4.21.5,<6.0.0dev,>=3.20.3 in /usr/local/lib/python3.11/dist-packages (from tensorflow) (5.29.4)\n",
            "Requirement already satisfied: requests<3,>=2.21.0 in /usr/local/lib/python3.11/dist-packages (from tensorflow) (2.32.3)\n",
            "Requirement already satisfied: setuptools in /usr/local/lib/python3.11/dist-packages (from tensorflow) (75.2.0)\n",
            "Requirement already satisfied: six>=1.12.0 in /usr/local/lib/python3.11/dist-packages (from tensorflow) (1.17.0)\n",
            "Requirement already satisfied: termcolor>=1.1.0 in /usr/local/lib/python3.11/dist-packages (from tensorflow) (3.0.1)\n",
            "Requirement already satisfied: typing-extensions>=3.6.6 in /usr/local/lib/python3.11/dist-packages (from tensorflow) (4.13.2)\n",
            "Requirement already satisfied: wrapt>=1.11.0 in /usr/local/lib/python3.11/dist-packages (from tensorflow) (1.17.2)\n",
            "Requirement already satisfied: grpcio<2.0,>=1.24.3 in /usr/local/lib/python3.11/dist-packages (from tensorflow) (1.71.0)\n",
            "Requirement already satisfied: tensorboard<2.19,>=2.18 in /usr/local/lib/python3.11/dist-packages (from tensorflow) (2.18.0)\n",
            "Requirement already satisfied: keras>=3.5.0 in /usr/local/lib/python3.11/dist-packages (from tensorflow) (3.8.0)\n",
            "Requirement already satisfied: numpy<2.1.0,>=1.26.0 in /usr/local/lib/python3.11/dist-packages (from tensorflow) (2.0.2)\n",
            "Requirement already satisfied: h5py>=3.11.0 in /usr/local/lib/python3.11/dist-packages (from tensorflow) (3.13.0)\n",
            "Requirement already satisfied: ml-dtypes<0.5.0,>=0.4.0 in /usr/local/lib/python3.11/dist-packages (from tensorflow) (0.4.1)\n",
            "Requirement already satisfied: tensorflow-io-gcs-filesystem>=0.23.1 in /usr/local/lib/python3.11/dist-packages (from tensorflow) (0.37.1)\n",
            "Requirement already satisfied: wheel<1.0,>=0.23.0 in /usr/local/lib/python3.11/dist-packages (from astunparse>=1.6.0->tensorflow) (0.45.1)\n",
            "Requirement already satisfied: rich in /usr/local/lib/python3.11/dist-packages (from keras>=3.5.0->tensorflow) (13.9.4)\n",
            "Requirement already satisfied: namex in /usr/local/lib/python3.11/dist-packages (from keras>=3.5.0->tensorflow) (0.0.9)\n",
            "Requirement already satisfied: optree in /usr/local/lib/python3.11/dist-packages (from keras>=3.5.0->tensorflow) (0.15.0)\n",
            "Requirement already satisfied: charset-normalizer<4,>=2 in /usr/local/lib/python3.11/dist-packages (from requests<3,>=2.21.0->tensorflow) (3.4.1)\n",
            "Requirement already satisfied: idna<4,>=2.5 in /usr/local/lib/python3.11/dist-packages (from requests<3,>=2.21.0->tensorflow) (3.10)\n",
            "Requirement already satisfied: urllib3<3,>=1.21.1 in /usr/local/lib/python3.11/dist-packages (from requests<3,>=2.21.0->tensorflow) (2.4.0)\n",
            "Requirement already satisfied: certifi>=2017.4.17 in /usr/local/lib/python3.11/dist-packages (from requests<3,>=2.21.0->tensorflow) (2025.1.31)\n",
            "Requirement already satisfied: markdown>=2.6.8 in /usr/local/lib/python3.11/dist-packages (from tensorboard<2.19,>=2.18->tensorflow) (3.8)\n",
            "Requirement already satisfied: tensorboard-data-server<0.8.0,>=0.7.0 in /usr/local/lib/python3.11/dist-packages (from tensorboard<2.19,>=2.18->tensorflow) (0.7.2)\n",
            "Requirement already satisfied: werkzeug>=1.0.1 in /usr/local/lib/python3.11/dist-packages (from tensorboard<2.19,>=2.18->tensorflow) (3.1.3)\n",
            "Requirement already satisfied: MarkupSafe>=2.1.1 in /usr/local/lib/python3.11/dist-packages (from werkzeug>=1.0.1->tensorboard<2.19,>=2.18->tensorflow) (3.0.2)\n",
            "Requirement already satisfied: markdown-it-py>=2.2.0 in /usr/local/lib/python3.11/dist-packages (from rich->keras>=3.5.0->tensorflow) (3.0.0)\n",
            "Requirement already satisfied: pygments<3.0.0,>=2.13.0 in /usr/local/lib/python3.11/dist-packages (from rich->keras>=3.5.0->tensorflow) (2.19.1)\n",
            "Requirement already satisfied: mdurl~=0.1 in /usr/local/lib/python3.11/dist-packages (from markdown-it-py>=2.2.0->rich->keras>=3.5.0->tensorflow) (0.1.2)\n"
          ]
        }
      ],
      "source": [
        "!pip install tensorflow"
      ]
    },
    {
      "cell_type": "code",
      "execution_count": 13,
      "metadata": {
        "id": "B1j83qBeNLQ7"
      },
      "outputs": [],
      "source": [
        "import pandas as pd\n",
        "import os\n",
        "import numpy as np\n",
        "import keras\n",
        "from tensorflow.keras.preprocessing import image\n",
        "from tensorflow.keras.preprocessing.image import ImageDataGenerator\n",
        "from keras import layers, models"
      ]
    },
    {
      "cell_type": "code",
      "execution_count": 16,
      "metadata": {
        "id": "nPKOrZ8lOVvv"
      },
      "outputs": [],
      "source": [
        "# Load your dataset CSV that contains the labels and image filenames\n",
        "dataset_csv = pd.read_csv(images_csv)\n",
        "\n",
        "# Function to load and preprocess images\n",
        "def load_and_preprocess_image(img_path, index, target_size=(424, 424)):\n",
        "    # print(f\"Processing {img_path}: \\t{index}\")\n",
        "    img = image.load_img(img_path, target_size=target_size)\n",
        "    img = image.img_to_array(img)  # Convert image to numpy array\n",
        "    # TODO: FIGURE OUT IF SCALING IS NECESSARY\n",
        "    img = image.img_to_array(img).astype('float32')  # Force float32\n",
        "    img = img / 255.0  # Normalize image (scaling pixels to [0, 1])\n",
        "    return img\n",
        "\n",
        "# Split the data based on the labels\n",
        "num_samples = 2002\n",
        "image_height, image_width, channels = 424, 424, 3\n",
        "\n",
        "# Preallocate arrays\n",
        "x_train = np.zeros((num_samples, image_height, image_width, channels), dtype=np.float32)\n",
        "y_train = np.zeros((num_samples,))\n",
        "\n",
        "with tf.device('/device:GPU:0'):\n",
        "\n",
        "  num_spiral = 0\n",
        "  num_elliptical = 0\n",
        "  num_uncertain = 0\n",
        "\n",
        "  i = 0\n",
        "  for _, row in dataset_csv.iterrows():\n",
        "    objid = row['OBJID']\n",
        "    image_path = os.path.join(images_folder, f\"{objid}.jpg\")\n",
        "\n",
        "    if os.path.exists(image_path):\n",
        "        # 0 = SPIRAL, 1 = ELLIPTICAL, 2 = UNCERTAIN\n",
        "        # Number based output for classification\n",
        "\n",
        "        if row['SPIRAL'] == 1:\n",
        "            img = load_and_preprocess_image(image_path, i)\n",
        "            x_train[i] = img\n",
        "            y_train[i] = 0\n",
        "            i += 1\n",
        "        if row['ELLIPTICAL'] == 1:\n",
        "            img = load_and_preprocess_image(image_path, i)\n",
        "            x_train[i] = img\n",
        "            y_train[i] = 1  #\n",
        "            i += 1\n",
        "        # if row['UNCERTAIN'] == 1:\n",
        "            # Attempting training without uncertain\n",
        "            # img = load_and_preprocess_image(image_path, i)\n",
        "            # x_train[i] = img\n",
        "            # y_train[i] = 2  #\n"
      ]
    },
    {
      "cell_type": "code",
      "execution_count": 17,
      "metadata": {
        "id": "fsKp0GPVW8R0",
        "colab": {
          "base_uri": "https://localhost:8080/"
        },
        "outputId": "1c24f8b2-dea5-4b77-f593-9b8148e2d02e"
      },
      "outputs": [
        {
          "output_type": "stream",
          "name": "stdout",
          "text": [
            "2002\n",
            "2002\n"
          ]
        }
      ],
      "source": [
        "print(len(x_train))\n",
        "print(len(y_train))"
      ]
    },
    {
      "cell_type": "code",
      "execution_count": 18,
      "metadata": {
        "id": "5S1EReSDSUcF"
      },
      "outputs": [],
      "source": [
        "from sklearn.model_selection import train_test_split"
      ]
    },
    {
      "cell_type": "code",
      "execution_count": 19,
      "metadata": {
        "id": "jptvsRzkSXYp"
      },
      "outputs": [],
      "source": [
        "# First split: train vs temp (temp will be split into val and test)\n",
        "x_train_final, x_temp, y_train_final, y_temp = train_test_split(\n",
        "    x_train, y_train, test_size=0.3, random_state=42, stratify=y_train\n",
        ")\n",
        "\n",
        "# Second split: validation vs test\n",
        "x_val, x_test, y_val, y_test = train_test_split(\n",
        "    x_temp, y_temp, test_size=1/3, random_state=42, stratify=y_temp\n",
        ")"
      ]
    },
    {
      "cell_type": "code",
      "execution_count": 20,
      "metadata": {
        "id": "3bwBxdn1Sdeo",
        "colab": {
          "base_uri": "https://localhost:8080/"
        },
        "outputId": "2ea2782d-a50d-41fb-eea7-d8a10a810fbe"
      },
      "outputs": [
        {
          "output_type": "stream",
          "name": "stdout",
          "text": [
            "Train set: (1401, 424, 424, 3)\n",
            "Validation set: (400, 424, 424, 3)\n",
            "Test set: (201, 424, 424, 3)\n"
          ]
        }
      ],
      "source": [
        "print(f\"Train set: {x_train_final.shape}\")\n",
        "print(f\"Validation set: {x_val.shape}\")\n",
        "print(f\"Test set: {x_test.shape}\")\n"
      ]
    },
    {
      "cell_type": "code",
      "execution_count": 24,
      "metadata": {
        "id": "iuvazy3JMzQN",
        "colab": {
          "base_uri": "https://localhost:8080/"
        },
        "outputId": "197ed438-8026-4802-9539-42043c0c6c5a"
      },
      "outputs": [
        {
          "output_type": "stream",
          "name": "stdout",
          "text": [
            "creating generators\n"
          ]
        }
      ],
      "source": [
        "# ImageDataGenerator with 90-degree rotations and horizontal flipping\n",
        "# Change later, proof of concept\n",
        "datagen_train = ImageDataGenerator(\n",
        "    rotation_range=360,  # 0, 90, 180, 270 degrees\n",
        "    horizontal_flip=True,\n",
        "    vertical_flip=True,\n",
        "    fill_mode='nearest',\n",
        "    # brightness_range=[0.8, 1.2]\n",
        ")\n",
        "\n",
        "datagen = ImageDataGenerator()\n",
        "\n",
        "train_generator = datagen_train.flow(x_train_final, y_train_final, batch_size=20)\n",
        "val_generator = datagen.flow(x_val, y_val, batch_size=20)\n",
        "test_generator = datagen.flow(x_test, y_test, batch_size=20, shuffle=False)\n",
        "\n",
        "# Create the generators for each class\n",
        "print(\"creating generators\")\n",
        "galaxy_generator = datagen.flow(x_train, y_train, batch_size=20)\n",
        "\n",
        "IMG_SIZE = (424, 424, 3)\n",
        "class_names = ['spiral', 'elliptical', 'uncertain']\n",
        "\n",
        "model = models.Sequential([\n",
        "    layers.Input(shape=IMG_SIZE),\n",
        "\n",
        "    # Convolution Block 1\n",
        "    layers.Conv2D(32, (3, 3), activation='relu', padding='same'),\n",
        "    layers.MaxPooling2D((2, 2)),\n",
        "\n",
        "    # Convolution Block 2\n",
        "    layers.Conv2D(64, (3, 3), activation='relu', padding='same'),\n",
        "    layers.MaxPooling2D((2, 2)),\n",
        "\n",
        "    # Convolution Block 3\n",
        "    layers.Conv2D(128, (3, 3), activation='relu', padding='same'),\n",
        "    layers.MaxPooling2D((2, 2)),\n",
        "\n",
        "    # Convolution Block 3\n",
        "    layers.Conv2D(256, (3, 3), activation='relu', padding='same'),\n",
        "    layers.MaxPooling2D((2, 2)),\n",
        "\n",
        "    # Flatten and Dense Layers\n",
        "    layers.Flatten(),\n",
        "    layers.Dense(128, activation='relu'),\n",
        "    layers.Dropout(0.3),\n",
        "    layers.Dense(len(class_names), activation='softmax')\n",
        "])\n",
        "\n",
        "model.compile(\n",
        "    optimizer='adam',\n",
        "    loss='sparse_categorical_crossentropy',  # if y is one-hot encoded\n",
        "    metrics=['accuracy']\n",
        ")"
      ]
    },
    {
      "cell_type": "code",
      "source": [
        "with tf.device('/device:GPU:0'):\n",
        "  history = model.fit(\n",
        "      train_generator,\n",
        "      validation_data=val_generator,\n",
        "      epochs=10,\n",
        "      steps_per_epoch=len(train_generator),\n",
        "      validation_steps=len(val_generator)\n",
        "  )\n",
        "  model.save(\"vflip_4cnn_20batch.h5\")"
      ],
      "metadata": {
        "id": "Ldje9oaeUq5W",
        "colab": {
          "base_uri": "https://localhost:8080/"
        },
        "outputId": "f00610a4-a60e-4445-d49b-c7732d658b74"
      },
      "execution_count": 25,
      "outputs": [
        {
          "output_type": "stream",
          "name": "stdout",
          "text": [
            "Epoch 1/10\n",
            "\u001b[1m71/71\u001b[0m \u001b[32m━━━━━━━━━━━━━━━━━━━━\u001b[0m\u001b[37m\u001b[0m \u001b[1m55s\u001b[0m 717ms/step - accuracy: 0.5301 - loss: 0.7910 - val_accuracy: 0.8600 - val_loss: 0.2987\n",
            "Epoch 2/10\n",
            "\u001b[1m71/71\u001b[0m \u001b[32m━━━━━━━━━━━━━━━━━━━━\u001b[0m\u001b[37m\u001b[0m \u001b[1m50s\u001b[0m 708ms/step - accuracy: 0.8398 - loss: 0.3974 - val_accuracy: 0.9050 - val_loss: 0.2709\n",
            "Epoch 3/10\n",
            "\u001b[1m71/71\u001b[0m \u001b[32m━━━━━━━━━━━━━━━━━━━━\u001b[0m\u001b[37m\u001b[0m \u001b[1m51s\u001b[0m 710ms/step - accuracy: 0.8507 - loss: 0.3652 - val_accuracy: 0.8875 - val_loss: 0.3006\n",
            "Epoch 4/10\n",
            "\u001b[1m71/71\u001b[0m \u001b[32m━━━━━━━━━━━━━━━━━━━━\u001b[0m\u001b[37m\u001b[0m \u001b[1m51s\u001b[0m 710ms/step - accuracy: 0.8897 - loss: 0.3027 - val_accuracy: 0.9275 - val_loss: 0.1902\n",
            "Epoch 5/10\n",
            "\u001b[1m71/71\u001b[0m \u001b[32m━━━━━━━━━━━━━━━━━━━━\u001b[0m\u001b[37m\u001b[0m \u001b[1m51s\u001b[0m 711ms/step - accuracy: 0.9191 - loss: 0.2220 - val_accuracy: 0.8650 - val_loss: 0.2916\n",
            "Epoch 6/10\n",
            "\u001b[1m71/71\u001b[0m \u001b[32m━━━━━━━━━━━━━━━━━━━━\u001b[0m\u001b[37m\u001b[0m \u001b[1m50s\u001b[0m 707ms/step - accuracy: 0.9188 - loss: 0.2090 - val_accuracy: 0.9325 - val_loss: 0.1458\n",
            "Epoch 7/10\n",
            "\u001b[1m71/71\u001b[0m \u001b[32m━━━━━━━━━━━━━━━━━━━━\u001b[0m\u001b[37m\u001b[0m \u001b[1m50s\u001b[0m 710ms/step - accuracy: 0.9494 - loss: 0.1526 - val_accuracy: 0.9475 - val_loss: 0.1256\n",
            "Epoch 8/10\n",
            "\u001b[1m71/71\u001b[0m \u001b[32m━━━━━━━━━━━━━━━━━━━━\u001b[0m\u001b[37m\u001b[0m \u001b[1m50s\u001b[0m 708ms/step - accuracy: 0.9374 - loss: 0.1369 - val_accuracy: 0.9400 - val_loss: 0.1540\n",
            "Epoch 9/10\n",
            "\u001b[1m71/71\u001b[0m \u001b[32m━━━━━━━━━━━━━━━━━━━━\u001b[0m\u001b[37m\u001b[0m \u001b[1m51s\u001b[0m 711ms/step - accuracy: 0.9538 - loss: 0.1381 - val_accuracy: 0.9500 - val_loss: 0.1278\n",
            "Epoch 10/10\n",
            "\u001b[1m71/71\u001b[0m \u001b[32m━━━━━━━━━━━━━━━━━━━━\u001b[0m\u001b[37m\u001b[0m \u001b[1m51s\u001b[0m 710ms/step - accuracy: 0.9418 - loss: 0.1688 - val_accuracy: 0.9500 - val_loss: 0.1409\n"
          ]
        },
        {
          "output_type": "stream",
          "name": "stderr",
          "text": [
            "WARNING:absl:You are saving your model as an HDF5 file via `model.save()` or `keras.saving.save_model(model)`. This file format is considered legacy. We recommend using instead the native Keras format, e.g. `model.save('my_model.keras')` or `keras.saving.save_model(model, 'my_model.keras')`. \n"
          ]
        }
      ]
    },
    {
      "cell_type": "markdown",
      "source": [
        "Training seemed to have stalled at ~66% accuracy\n",
        "Could be a few things:\n",
        "  - Need a deeper / more complex model\n",
        "  - Need to augment the data more correctly\n",
        "\n",
        "  - My running theory\n",
        "    - \"Uncertain\" data entries are 1/3 of the dataset\n",
        "      - It is not able to determine which ones are uncertain because they look too much like Elliptical or Spiral\n",
        "\n",
        "      - Would mean a 1/3 reduction in accuracy?\n",
        "\n",
        "Next Attempts:\n",
        "   - Add more convolutional layers\n",
        "   - Change batch size\n",
        "   - Remove uncertains????\n",
        "   - Change augmentation\n",
        "   - Increase # epochs"
      ],
      "metadata": {
        "id": "2LoYaUSnXyGh"
      }
    },
    {
      "cell_type": "code",
      "source": [
        "import matplotlib.pyplot as plt"
      ],
      "metadata": {
        "id": "fLASlj-1LWD3"
      },
      "execution_count": 26,
      "outputs": []
    },
    {
      "cell_type": "code",
      "source": [
        "def plot_training_history(history):\n",
        "    acc = history.history['accuracy']\n",
        "    val_acc = history.history['val_accuracy']\n",
        "    loss = history.history['loss']\n",
        "    val_loss = history.history['val_loss']\n",
        "    epochs = range(1, len(acc) + 1)\n",
        "\n",
        "    plt.figure(figsize=(14, 5))\n",
        "\n",
        "    # Accuracy\n",
        "    plt.subplot(1, 2, 1)\n",
        "    plt.plot(epochs, acc, 'bo-', label='Training Accuracy')\n",
        "    plt.plot(epochs, val_acc, 'ro-', label='Validation Accuracy')\n",
        "    plt.title('Training and Validation Accuracy')\n",
        "    plt.xlabel('Epoch')\n",
        "    plt.ylabel('Accuracy')\n",
        "    plt.legend()\n",
        "\n",
        "    # Loss\n",
        "    plt.subplot(1, 2, 2)\n",
        "    plt.plot(epochs, loss, 'bo-', label='Training Loss')\n",
        "    plt.plot(epochs, val_loss, 'ro-', label='Validation Loss')\n",
        "    plt.title('Training and Validation Loss')\n",
        "    plt.xlabel('Epoch')\n",
        "    plt.ylabel('Loss')\n",
        "    plt.legend()\n",
        "\n",
        "    plt.tight_layout()\n",
        "    plt.show()\n",
        "\n",
        "# Call it after training\n",
        "plot_training_history(history)"
      ],
      "metadata": {
        "id": "ucP1vDAlUzXz",
        "colab": {
          "base_uri": "https://localhost:8080/",
          "height": 507
        },
        "outputId": "cef48691-e0c1-45f3-fe29-d49c2c1bc948"
      },
      "execution_count": 27,
      "outputs": [
        {
          "output_type": "display_data",
          "data": {
            "text/plain": [
              "<Figure size 1400x500 with 2 Axes>"
            ],
            "image/png": "[encoded data removed]"
          },
          "metadata": {}
        }
      ]
    },
    {
      "cell_type": "code",
      "source": [
        "from tensorflow.keras.models import load_model\n",
        "\n",
        "# model = load_model('/content/drive/MyDrive/171/vflip_4cnn_unc_del.h5')\n",
        "\n",
        "# Predict probabilities\n",
        "pred_probs = model.predict(test_generator, steps=len(test_generator))\n",
        "\n",
        "# Get the predicted class indices\n",
        "predicted_classes = np.argmax(pred_probs, axis=1)\n",
        "\n",
        "# Total correct\n",
        "total_correct = 0\n",
        "\n",
        "total_no_uncertain = 0\n",
        "total_correct_no_uncertain = 0\n",
        "\n",
        "# Now you can print actual vs predicted for some samples\n",
        "for i in range(len(y_test)):\n",
        "    true_label = class_names[int(y_test[i])]\n",
        "    predicted_label = class_names[predicted_classes[i]]\n",
        "    confidence = np.max(pred_probs[i])  # Get confidence score\n",
        "    if confidence > 0.5:\n",
        "      print(f\"Sample {i}: True: {true_label}, Predicted: {predicted_label} (Confidence: {confidence:.2f})\")\n",
        "    else:\n",
        "      print(f\"Sample {i}: True: {true_label}, Predicted: uncertain (Confidence: {confidence:.2f})\")\n",
        "      predicted_label = \"uncertain\"\n",
        "    if true_label == predicted_label:\n",
        "        total_correct += 1\n",
        "\n",
        "# Calculate accuracy\n",
        "accuracy = total_correct / len(y_test)\n",
        "print(f\"Accuracy: {accuracy * 100:.2f}%\")"
      ],
      "metadata": {
        "id": "ewwwuWHpXTD_",
        "colab": {
          "base_uri": "https://localhost:8080/"
        },
        "outputId": "746cecc0-1ec3-4c03-ba78-c0820fd387ff"
      },
      "execution_count": 30,
      "outputs": [
        {
          "output_type": "stream",
          "name": "stdout",
          "text": [
            "\u001b[1m11/11\u001b[0m \u001b[32m━━━━━━━━━━━━━━━━━━━━\u001b[0m\u001b[37m\u001b[0m \u001b[1m1s\u001b[0m 54ms/step\n",
            "Sample 0: True: elliptical, Predicted: elliptical (Confidence: 0.98)\n",
            "Sample 1: True: spiral, Predicted: spiral (Confidence: 0.99)\n",
            "Sample 2: True: spiral, Predicted: spiral (Confidence: 0.84)\n",
            "Sample 3: True: spiral, Predicted: spiral (Confidence: 0.87)\n",
            "Sample 4: True: spiral, Predicted: spiral (Confidence: 1.00)\n",
            "Sample 5: True: spiral, Predicted: elliptical (Confidence: 0.74)\n",
            "Sample 6: True: spiral, Predicted: spiral (Confidence: 0.93)\n",
            "Sample 7: True: elliptical, Predicted: elliptical (Confidence: 1.00)\n",
            "Sample 8: True: elliptical, Predicted: elliptical (Confidence: 1.00)\n",
            "Sample 9: True: elliptical, Predicted: elliptical (Confidence: 0.96)\n",
            "Sample 10: True: spiral, Predicted: spiral (Confidence: 0.85)\n",
            "Sample 11: True: elliptical, Predicted: elliptical (Confidence: 0.98)\n",
            "Sample 12: True: elliptical, Predicted: elliptical (Confidence: 1.00)\n",
            "Sample 13: True: spiral, Predicted: spiral (Confidence: 0.98)\n",
            "Sample 14: True: spiral, Predicted: spiral (Confidence: 0.80)\n",
            "Sample 15: True: elliptical, Predicted: elliptical (Confidence: 0.97)\n",
            "Sample 16: True: spiral, Predicted: spiral (Confidence: 0.97)\n",
            "Sample 17: True: elliptical, Predicted: elliptical (Confidence: 1.00)\n",
            "Sample 18: True: elliptical, Predicted: elliptical (Confidence: 0.96)\n",
            "Sample 19: True: spiral, Predicted: spiral (Confidence: 0.87)\n",
            "Sample 20: True: elliptical, Predicted: elliptical (Confidence: 1.00)\n",
            "Sample 21: True: elliptical, Predicted: elliptical (Confidence: 0.99)\n",
            "Sample 22: True: elliptical, Predicted: elliptical (Confidence: 1.00)\n",
            "Sample 23: True: spiral, Predicted: spiral (Confidence: 1.00)\n",
            "Sample 24: True: spiral, Predicted: spiral (Confidence: 1.00)\n",
            "Sample 25: True: elliptical, Predicted: elliptical (Confidence: 1.00)\n",
            "Sample 26: True: spiral, Predicted: spiral (Confidence: 0.98)\n",
            "Sample 27: True: elliptical, Predicted: elliptical (Confidence: 1.00)\n",
            "Sample 28: True: elliptical, Predicted: elliptical (Confidence: 1.00)\n",
            "Sample 29: True: spiral, Predicted: spiral (Confidence: 1.00)\n",
            "Sample 30: True: elliptical, Predicted: elliptical (Confidence: 1.00)\n",
            "Sample 31: True: elliptical, Predicted: elliptical (Confidence: 0.94)\n",
            "Sample 32: True: spiral, Predicted: spiral (Confidence: 1.00)\n",
            "Sample 33: True: elliptical, Predicted: elliptical (Confidence: 1.00)\n",
            "Sample 34: True: spiral, Predicted: spiral (Confidence: 0.99)\n",
            "Sample 35: True: elliptical, Predicted: elliptical (Confidence: 1.00)\n",
            "Sample 36: True: spiral, Predicted: spiral (Confidence: 1.00)\n",
            "Sample 37: True: spiral, Predicted: spiral (Confidence: 0.91)\n",
            "Sample 38: True: spiral, Predicted: elliptical (Confidence: 0.74)\n",
            "Sample 39: True: spiral, Predicted: elliptical (Confidence: 1.00)\n",
            "Sample 40: True: elliptical, Predicted: elliptical (Confidence: 1.00)\n",
            "Sample 41: True: spiral, Predicted: spiral (Confidence: 0.95)\n",
            "Sample 42: True: spiral, Predicted: elliptical (Confidence: 0.77)\n",
            "Sample 43: True: spiral, Predicted: elliptical (Confidence: 0.83)\n",
            "Sample 44: True: elliptical, Predicted: elliptical (Confidence: 0.99)\n",
            "Sample 45: True: spiral, Predicted: spiral (Confidence: 0.99)\n",
            "Sample 46: True: elliptical, Predicted: elliptical (Confidence: 1.00)\n",
            "Sample 47: True: spiral, Predicted: spiral (Confidence: 0.97)\n",
            "Sample 48: True: spiral, Predicted: spiral (Confidence: 0.98)\n",
            "Sample 49: True: spiral, Predicted: spiral (Confidence: 1.00)\n",
            "Sample 50: True: spiral, Predicted: spiral (Confidence: 0.96)\n",
            "Sample 51: True: elliptical, Predicted: elliptical (Confidence: 1.00)\n",
            "Sample 52: True: spiral, Predicted: spiral (Confidence: 0.98)\n",
            "Sample 53: True: spiral, Predicted: spiral (Confidence: 0.99)\n",
            "Sample 54: True: spiral, Predicted: spiral (Confidence: 0.98)\n",
            "Sample 55: True: elliptical, Predicted: elliptical (Confidence: 1.00)\n",
            "Sample 56: True: spiral, Predicted: elliptical (Confidence: 0.80)\n",
            "Sample 57: True: spiral, Predicted: spiral (Confidence: 0.98)\n",
            "Sample 58: True: spiral, Predicted: spiral (Confidence: 1.00)\n",
            "Sample 59: True: elliptical, Predicted: elliptical (Confidence: 0.83)\n",
            "Sample 60: True: elliptical, Predicted: elliptical (Confidence: 1.00)\n",
            "Sample 61: True: elliptical, Predicted: elliptical (Confidence: 1.00)\n",
            "Sample 62: True: spiral, Predicted: spiral (Confidence: 0.98)\n",
            "Sample 63: True: spiral, Predicted: spiral (Confidence: 1.00)\n",
            "Sample 64: True: spiral, Predicted: spiral (Confidence: 0.99)\n",
            "Sample 65: True: elliptical, Predicted: elliptical (Confidence: 1.00)\n",
            "Sample 66: True: spiral, Predicted: spiral (Confidence: 0.95)\n",
            "Sample 67: True: elliptical, Predicted: elliptical (Confidence: 0.94)\n",
            "Sample 68: True: elliptical, Predicted: elliptical (Confidence: 1.00)\n",
            "Sample 69: True: spiral, Predicted: spiral (Confidence: 0.90)\n",
            "Sample 70: True: spiral, Predicted: elliptical (Confidence: 0.71)\n",
            "Sample 71: True: elliptical, Predicted: elliptical (Confidence: 0.99)\n",
            "Sample 72: True: spiral, Predicted: elliptical (Confidence: 0.70)\n",
            "Sample 73: True: elliptical, Predicted: elliptical (Confidence: 0.99)\n",
            "Sample 74: True: spiral, Predicted: spiral (Confidence: 0.92)\n",
            "Sample 75: True: elliptical, Predicted: elliptical (Confidence: 0.91)\n",
            "Sample 76: True: spiral, Predicted: spiral (Confidence: 0.99)\n",
            "Sample 77: True: spiral, Predicted: spiral (Confidence: 0.98)\n",
            "Sample 78: True: elliptical, Predicted: elliptical (Confidence: 1.00)\n",
            "Sample 79: True: elliptical, Predicted: elliptical (Confidence: 1.00)\n",
            "Sample 80: True: spiral, Predicted: spiral (Confidence: 0.99)\n",
            "Sample 81: True: spiral, Predicted: spiral (Confidence: 0.99)\n",
            "Sample 82: True: spiral, Predicted: spiral (Confidence: 0.99)\n",
            "Sample 83: True: elliptical, Predicted: elliptical (Confidence: 0.92)\n",
            "Sample 84: True: spiral, Predicted: spiral (Confidence: 0.54)\n",
            "Sample 85: True: elliptical, Predicted: elliptical (Confidence: 1.00)\n",
            "Sample 86: True: spiral, Predicted: spiral (Confidence: 0.98)\n",
            "Sample 87: True: elliptical, Predicted: elliptical (Confidence: 0.99)\n",
            "Sample 88: True: elliptical, Predicted: elliptical (Confidence: 0.93)\n",
            "Sample 89: True: elliptical, Predicted: elliptical (Confidence: 1.00)\n",
            "Sample 90: True: spiral, Predicted: spiral (Confidence: 0.95)\n",
            "Sample 91: True: elliptical, Predicted: elliptical (Confidence: 1.00)\n",
            "Sample 92: True: elliptical, Predicted: elliptical (Confidence: 1.00)\n",
            "Sample 93: True: spiral, Predicted: spiral (Confidence: 0.99)\n",
            "Sample 94: True: spiral, Predicted: spiral (Confidence: 0.81)\n",
            "Sample 95: True: spiral, Predicted: spiral (Confidence: 1.00)\n",
            "Sample 96: True: spiral, Predicted: spiral (Confidence: 0.97)\n",
            "Sample 97: True: spiral, Predicted: spiral (Confidence: 1.00)\n",
            "Sample 98: True: elliptical, Predicted: elliptical (Confidence: 0.97)\n",
            "Sample 99: True: spiral, Predicted: spiral (Confidence: 0.99)\n",
            "Sample 100: True: elliptical, Predicted: elliptical (Confidence: 0.98)\n",
            "Sample 101: True: elliptical, Predicted: elliptical (Confidence: 1.00)\n",
            "Sample 102: True: spiral, Predicted: spiral (Confidence: 0.99)\n",
            "Sample 103: True: elliptical, Predicted: elliptical (Confidence: 1.00)\n",
            "Sample 104: True: elliptical, Predicted: elliptical (Confidence: 0.97)\n",
            "Sample 105: True: elliptical, Predicted: elliptical (Confidence: 1.00)\n",
            "Sample 106: True: elliptical, Predicted: elliptical (Confidence: 0.99)\n",
            "Sample 107: True: elliptical, Predicted: elliptical (Confidence: 0.97)\n",
            "Sample 108: True: elliptical, Predicted: elliptical (Confidence: 0.98)\n",
            "Sample 109: True: spiral, Predicted: spiral (Confidence: 0.99)\n",
            "Sample 110: True: elliptical, Predicted: elliptical (Confidence: 1.00)\n",
            "Sample 111: True: elliptical, Predicted: elliptical (Confidence: 0.98)\n",
            "Sample 112: True: spiral, Predicted: spiral (Confidence: 0.94)\n",
            "Sample 113: True: elliptical, Predicted: elliptical (Confidence: 1.00)\n",
            "Sample 114: True: spiral, Predicted: spiral (Confidence: 0.54)\n",
            "Sample 115: True: elliptical, Predicted: elliptical (Confidence: 1.00)\n",
            "Sample 116: True: spiral, Predicted: spiral (Confidence: 0.98)\n",
            "Sample 117: True: spiral, Predicted: spiral (Confidence: 1.00)\n",
            "Sample 118: True: elliptical, Predicted: elliptical (Confidence: 1.00)\n",
            "Sample 119: True: elliptical, Predicted: elliptical (Confidence: 1.00)\n",
            "Sample 120: True: elliptical, Predicted: elliptical (Confidence: 0.99)\n",
            "Sample 121: True: spiral, Predicted: spiral (Confidence: 0.96)\n",
            "Sample 122: True: elliptical, Predicted: elliptical (Confidence: 1.00)\n",
            "Sample 123: True: elliptical, Predicted: elliptical (Confidence: 1.00)\n",
            "Sample 124: True: elliptical, Predicted: elliptical (Confidence: 0.92)\n",
            "Sample 125: True: spiral, Predicted: spiral (Confidence: 0.91)\n",
            "Sample 126: True: spiral, Predicted: spiral (Confidence: 0.93)\n",
            "Sample 127: True: spiral, Predicted: spiral (Confidence: 1.00)\n",
            "Sample 128: True: spiral, Predicted: spiral (Confidence: 0.92)\n",
            "Sample 129: True: spiral, Predicted: spiral (Confidence: 0.92)\n",
            "Sample 130: True: spiral, Predicted: elliptical (Confidence: 0.73)\n",
            "Sample 131: True: spiral, Predicted: spiral (Confidence: 0.55)\n",
            "Sample 132: True: elliptical, Predicted: elliptical (Confidence: 1.00)\n",
            "Sample 133: True: spiral, Predicted: spiral (Confidence: 0.97)\n",
            "Sample 134: True: elliptical, Predicted: elliptical (Confidence: 0.98)\n",
            "Sample 135: True: spiral, Predicted: spiral (Confidence: 1.00)\n",
            "Sample 136: True: spiral, Predicted: spiral (Confidence: 1.00)\n",
            "Sample 137: True: elliptical, Predicted: elliptical (Confidence: 0.71)\n",
            "Sample 138: True: elliptical, Predicted: elliptical (Confidence: 1.00)\n",
            "Sample 139: True: elliptical, Predicted: elliptical (Confidence: 1.00)\n",
            "Sample 140: True: elliptical, Predicted: elliptical (Confidence: 0.99)\n",
            "Sample 141: True: elliptical, Predicted: elliptical (Confidence: 1.00)\n",
            "Sample 142: True: spiral, Predicted: spiral (Confidence: 0.98)\n",
            "Sample 143: True: elliptical, Predicted: elliptical (Confidence: 1.00)\n",
            "Sample 144: True: elliptical, Predicted: elliptical (Confidence: 1.00)\n",
            "Sample 145: True: elliptical, Predicted: elliptical (Confidence: 1.00)\n",
            "Sample 146: True: elliptical, Predicted: elliptical (Confidence: 1.00)\n",
            "Sample 147: True: spiral, Predicted: spiral (Confidence: 0.95)\n",
            "Sample 148: True: elliptical, Predicted: elliptical (Confidence: 1.00)\n",
            "Sample 149: True: elliptical, Predicted: elliptical (Confidence: 0.99)\n",
            "Sample 150: True: spiral, Predicted: spiral (Confidence: 0.97)\n",
            "Sample 151: True: spiral, Predicted: spiral (Confidence: 0.97)\n",
            "Sample 152: True: spiral, Predicted: spiral (Confidence: 0.98)\n",
            "Sample 153: True: elliptical, Predicted: elliptical (Confidence: 1.00)\n",
            "Sample 154: True: elliptical, Predicted: elliptical (Confidence: 1.00)\n",
            "Sample 155: True: spiral, Predicted: spiral (Confidence: 0.97)\n",
            "Sample 156: True: elliptical, Predicted: elliptical (Confidence: 1.00)\n",
            "Sample 157: True: elliptical, Predicted: elliptical (Confidence: 0.99)\n",
            "Sample 158: True: spiral, Predicted: spiral (Confidence: 0.99)\n",
            "Sample 159: True: elliptical, Predicted: elliptical (Confidence: 1.00)\n",
            "Sample 160: True: elliptical, Predicted: elliptical (Confidence: 1.00)\n",
            "Sample 161: True: spiral, Predicted: spiral (Confidence: 0.99)\n",
            "Sample 162: True: elliptical, Predicted: elliptical (Confidence: 0.90)\n",
            "Sample 163: True: elliptical, Predicted: elliptical (Confidence: 1.00)\n",
            "Sample 164: True: spiral, Predicted: spiral (Confidence: 1.00)\n",
            "Sample 165: True: elliptical, Predicted: elliptical (Confidence: 1.00)\n",
            "Sample 166: True: elliptical, Predicted: elliptical (Confidence: 1.00)\n",
            "Sample 167: True: elliptical, Predicted: elliptical (Confidence: 0.92)\n",
            "Sample 168: True: elliptical, Predicted: elliptical (Confidence: 1.00)\n",
            "Sample 169: True: spiral, Predicted: spiral (Confidence: 0.99)\n",
            "Sample 170: True: elliptical, Predicted: elliptical (Confidence: 1.00)\n",
            "Sample 171: True: elliptical, Predicted: elliptical (Confidence: 1.00)\n",
            "Sample 172: True: elliptical, Predicted: elliptical (Confidence: 0.97)\n",
            "Sample 173: True: spiral, Predicted: spiral (Confidence: 1.00)\n",
            "Sample 174: True: spiral, Predicted: spiral (Confidence: 0.99)\n",
            "Sample 175: True: spiral, Predicted: spiral (Confidence: 0.97)\n",
            "Sample 176: True: elliptical, Predicted: elliptical (Confidence: 0.95)\n",
            "Sample 177: True: elliptical, Predicted: elliptical (Confidence: 1.00)\n",
            "Sample 178: True: elliptical, Predicted: elliptical (Confidence: 1.00)\n",
            "Sample 179: True: spiral, Predicted: spiral (Confidence: 0.96)\n",
            "Sample 180: True: elliptical, Predicted: elliptical (Confidence: 1.00)\n",
            "Sample 181: True: elliptical, Predicted: elliptical (Confidence: 1.00)\n",
            "Sample 182: True: spiral, Predicted: elliptical (Confidence: 0.58)\n",
            "Sample 183: True: spiral, Predicted: spiral (Confidence: 0.99)\n",
            "Sample 184: True: spiral, Predicted: spiral (Confidence: 1.00)\n",
            "Sample 185: True: elliptical, Predicted: elliptical (Confidence: 1.00)\n",
            "Sample 186: True: elliptical, Predicted: elliptical (Confidence: 1.00)\n",
            "Sample 187: True: spiral, Predicted: spiral (Confidence: 1.00)\n",
            "Sample 188: True: spiral, Predicted: spiral (Confidence: 0.97)\n",
            "Sample 189: True: elliptical, Predicted: elliptical (Confidence: 0.99)\n",
            "Sample 190: True: spiral, Predicted: spiral (Confidence: 0.81)\n",
            "Sample 191: True: elliptical, Predicted: elliptical (Confidence: 0.97)\n",
            "Sample 192: True: spiral, Predicted: spiral (Confidence: 0.77)\n",
            "Sample 193: True: elliptical, Predicted: elliptical (Confidence: 0.99)\n",
            "Sample 194: True: spiral, Predicted: spiral (Confidence: 0.92)\n",
            "Sample 195: True: spiral, Predicted: spiral (Confidence: 0.98)\n",
            "Sample 196: True: elliptical, Predicted: elliptical (Confidence: 1.00)\n",
            "Sample 197: True: spiral, Predicted: spiral (Confidence: 0.99)\n",
            "Sample 198: True: spiral, Predicted: spiral (Confidence: 0.99)\n",
            "Sample 199: True: spiral, Predicted: elliptical (Confidence: 0.63)\n",
            "Sample 200: True: spiral, Predicted: spiral (Confidence: 0.98)\n",
            "Accuracy: 94.53%\n"
          ]
        }
      ]
    }
  ],
  "metadata": {
    "accelerator": "GPU",
    "colab": {
      "gpuType": "L4",
      "provenance": [],
      "machine_shape": "hm"
    },
    "kernelspec": {
      "display_name": "Python 3",
      "name": "python3"
    },
    "language_info": {
      "name": "python"
    }
  },
  "nbformat": 4,
  "nbformat_minor": 0
}